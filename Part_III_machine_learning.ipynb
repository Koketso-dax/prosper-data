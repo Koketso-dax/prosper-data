{
  "nbformat": 4,
  "nbformat_minor": 0,
  "metadata": {
    "colab": {
      "provenance": [],
      "authorship_tag": "ABX9TyNEVdjoCqV5bFJ99oeBRLsR",
      "include_colab_link": true
    },
    "kernelspec": {
      "name": "python3",
      "display_name": "Python 3"
    },
    "language_info": {
      "name": "python"
    }
  },
  "cells": [
    {
      "cell_type": "markdown",
      "metadata": {
        "id": "view-in-github",
        "colab_type": "text"
      },
      "source": [
        "<a href=\"https://colab.research.google.com/github/Koketso-dax/prosper-data/blob/main/Part_III_machine_learning.ipynb\" target=\"_parent\"><img src=\"https://colab.research.google.com/assets/colab-badge.svg\" alt=\"Open In Colab\"/></a>"
      ]
    },
    {
      "cell_type": "markdown",
      "source": [
        "## Part III - Machine Learning Application\n",
        "### by Koketso Diale\n",
        "\n",
        "> Now that we are more familiar with the dataset, let us use the insights we have to build a machine learning model to predict a potential Borrower's Prosper Score.\n"
      ],
      "metadata": {
        "id": "S5cYHm7VE4Bk"
      }
    },
    {
      "cell_type": "markdown",
      "source": [
        "#### Data Gathering"
      ],
      "metadata": {
        "id": "9cDTvDNTAeDH"
      }
    },
    {
      "cell_type": "code",
      "source": [
        "# import packages for data manipulation\n",
        "import numpy as np\n",
        "import pandas as pd\n",
        "import matplotlib.pyplot as plt"
      ],
      "metadata": {
        "id": "oJcQWjAk9W0D"
      },
      "execution_count": 1,
      "outputs": []
    },
    {
      "cell_type": "code",
      "source": [
        "# Download Data\n",
        "!wget 'https://s3.amazonaws.com/udacity-hosted-downloads/ud651/prosperLoanData.csv'"
      ],
      "metadata": {
        "colab": {
          "base_uri": "https://localhost:8080/"
        },
        "id": "odCNnIJO9AQn",
        "outputId": "3a677ce1-ab14-4c6f-bb0a-b81ec77d4d1c"
      },
      "execution_count": 2,
      "outputs": [
        {
          "output_type": "stream",
          "name": "stdout",
          "text": [
            "--2024-03-05 14:14:43--  https://s3.amazonaws.com/udacity-hosted-downloads/ud651/prosperLoanData.csv\n",
            "Resolving s3.amazonaws.com (s3.amazonaws.com)... 52.217.236.240, 54.231.135.80, 52.216.216.96, ...\n",
            "Connecting to s3.amazonaws.com (s3.amazonaws.com)|52.217.236.240|:443... connected.\n",
            "HTTP request sent, awaiting response... 200 OK\n",
            "Length: 86471101 (82M) [application/octet-stream]\n",
            "Saving to: ‘prosperLoanData.csv’\n",
            "\n",
            "prosperLoanData.csv 100%[===================>]  82.46M  44.7MB/s    in 1.8s    \n",
            "\n",
            "2024-03-05 14:14:46 (44.7 MB/s) - ‘prosperLoanData.csv’ saved [86471101/86471101]\n",
            "\n"
          ]
        }
      ]
    },
    {
      "cell_type": "code",
      "source": [
        "# Load in the dataset\n",
        "loan_df = pd.read_csv('prosperLoanData.csv')\n",
        "loan_df.info()"
      ],
      "metadata": {
        "id": "dZ5RXjnG97-5"
      },
      "execution_count": null,
      "outputs": []
    },
    {
      "cell_type": "markdown",
      "source": [
        "> From our analysis in PART I, we have already observed that our data is very imbalanced. Most of the data is from the State of Canada and Texas respectively. Therefore we will need to account for this by randomly selecting limited numbers of Borrowers from each state.\n",
        "\n",
        "> Machine Learning Frameworks prefer to work with numbers over strings so we will need to use numeric ratings over alpha ratings for simplicity and performance. Additionally some features will need to be Normalized first to work out scaling imbalances amongst the different features."
      ],
      "metadata": {
        "id": "LQzQ6wmiGS_3"
      }
    },
    {
      "cell_type": "code",
      "source": [],
      "metadata": {
        "id": "oTr4AQ6L-gNd"
      },
      "execution_count": null,
      "outputs": []
    }
  ]
}