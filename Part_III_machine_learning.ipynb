{
  "nbformat": 4,
  "nbformat_minor": 0,
  "metadata": {
    "colab": {
      "provenance": [],
      "authorship_tag": "ABX9TyNnoGUVkjtMeHFF6AF2rXMl",
      "include_colab_link": true
    },
    "kernelspec": {
      "name": "python3",
      "display_name": "Python 3"
    },
    "language_info": {
      "name": "python"
    }
  },
  "cells": [
    {
      "cell_type": "markdown",
      "metadata": {
        "id": "view-in-github",
        "colab_type": "text"
      },
      "source": [
        "<a href=\"https://colab.research.google.com/github/Koketso-dax/prosper-data/blob/main/Part_III_machine_learning.ipynb\" target=\"_parent\"><img src=\"https://colab.research.google.com/assets/colab-badge.svg\" alt=\"Open In Colab\"/></a>"
      ]
    },
    {
      "cell_type": "markdown",
      "source": [
        "## Part III - Machine Learning Application\n",
        "### by Koketso Diale\n",
        "\n",
        "> Now that we are more familiar with the dataset, let us use the insights we have to build a machine learning model to predict a potential Borrower's Prosper Score.\n"
      ],
      "metadata": {
        "id": "S5cYHm7VE4Bk"
      }
    },
    {
      "cell_type": "markdown",
      "source": [
        "#### Data Gathering"
      ],
      "metadata": {
        "id": "9cDTvDNTAeDH"
      }
    },
    {
      "cell_type": "code",
      "source": [
        "# import packages for data manipulation\n",
        "import numpy as np\n",
        "import pandas as pd\n",
        "import matplotlib.pyplot as plt"
      ],
      "metadata": {
        "id": "oJcQWjAk9W0D"
      },
      "execution_count": null,
      "outputs": []
    },
    {
      "cell_type": "code",
      "source": [
        "# Download Data\n",
        "!wget 'https://s3.amazonaws.com/udacity-hosted-downloads/ud651/prosperLoanData.csv'"
      ],
      "metadata": {
        "colab": {
          "base_uri": "https://localhost:8080/"
        },
        "id": "odCNnIJO9AQn",
        "outputId": "cd1659f2-761b-48c1-d36b-52a9648e628d"
      },
      "execution_count": null,
      "outputs": [
        {
          "output_type": "stream",
          "name": "stdout",
          "text": [
            "--2024-03-07 12:53:39--  https://s3.amazonaws.com/udacity-hosted-downloads/ud651/prosperLoanData.csv\n",
            "Resolving s3.amazonaws.com (s3.amazonaws.com)... 52.216.12.62, 16.182.40.224, 52.217.223.32, ...\n",
            "Connecting to s3.amazonaws.com (s3.amazonaws.com)|52.216.12.62|:443... connected.\n",
            "HTTP request sent, awaiting response... 200 OK\n",
            "Length: 86471101 (82M) [application/octet-stream]\n",
            "Saving to: ‘prosperLoanData.csv.1’\n",
            "\n",
            "prosperLoanData.csv 100%[===================>]  82.46M   101MB/s    in 0.8s    \n",
            "\n",
            "2024-03-07 12:53:40 (101 MB/s) - ‘prosperLoanData.csv.1’ saved [86471101/86471101]\n",
            "\n"
          ]
        }
      ]
    },
    {
      "cell_type": "code",
      "source": [
        "# Load in the dataset\n",
        "loan_df = pd.read_csv('prosperLoanData.csv')\n",
        "loan_df.info()"
      ],
      "metadata": {
        "id": "dZ5RXjnG97-5",
        "colab": {
          "base_uri": "https://localhost:8080/"
        },
        "outputId": "9ea7b579-1bac-43a1-d9db-a09b2840666c"
      },
      "execution_count": null,
      "outputs": [
        {
          "output_type": "stream",
          "name": "stdout",
          "text": [
            "<class 'pandas.core.frame.DataFrame'>\n",
            "RangeIndex: 113937 entries, 0 to 113936\n",
            "Data columns (total 81 columns):\n",
            " #   Column                               Non-Null Count   Dtype  \n",
            "---  ------                               --------------   -----  \n",
            " 0   ListingKey                           113937 non-null  object \n",
            " 1   ListingNumber                        113937 non-null  int64  \n",
            " 2   ListingCreationDate                  113937 non-null  object \n",
            " 3   CreditGrade                          28953 non-null   object \n",
            " 4   Term                                 113937 non-null  int64  \n",
            " 5   LoanStatus                           113937 non-null  object \n",
            " 6   ClosedDate                           55089 non-null   object \n",
            " 7   BorrowerAPR                          113912 non-null  float64\n",
            " 8   BorrowerRate                         113937 non-null  float64\n",
            " 9   LenderYield                          113937 non-null  float64\n",
            " 10  EstimatedEffectiveYield              84853 non-null   float64\n",
            " 11  EstimatedLoss                        84853 non-null   float64\n",
            " 12  EstimatedReturn                      84853 non-null   float64\n",
            " 13  ProsperRating (numeric)              84853 non-null   float64\n",
            " 14  ProsperRating (Alpha)                84853 non-null   object \n",
            " 15  ProsperScore                         84853 non-null   float64\n",
            " 16  ListingCategory (numeric)            113937 non-null  int64  \n",
            " 17  BorrowerState                        108422 non-null  object \n",
            " 18  Occupation                           110349 non-null  object \n",
            " 19  EmploymentStatus                     111682 non-null  object \n",
            " 20  EmploymentStatusDuration             106312 non-null  float64\n",
            " 21  IsBorrowerHomeowner                  113937 non-null  bool   \n",
            " 22  CurrentlyInGroup                     113937 non-null  bool   \n",
            " 23  GroupKey                             13341 non-null   object \n",
            " 24  DateCreditPulled                     113937 non-null  object \n",
            " 25  CreditScoreRangeLower                113346 non-null  float64\n",
            " 26  CreditScoreRangeUpper                113346 non-null  float64\n",
            " 27  FirstRecordedCreditLine              113240 non-null  object \n",
            " 28  CurrentCreditLines                   106333 non-null  float64\n",
            " 29  OpenCreditLines                      106333 non-null  float64\n",
            " 30  TotalCreditLinespast7years           113240 non-null  float64\n",
            " 31  OpenRevolvingAccounts                113937 non-null  int64  \n",
            " 32  OpenRevolvingMonthlyPayment          113937 non-null  float64\n",
            " 33  InquiriesLast6Months                 113240 non-null  float64\n",
            " 34  TotalInquiries                       112778 non-null  float64\n",
            " 35  CurrentDelinquencies                 113240 non-null  float64\n",
            " 36  AmountDelinquent                     106315 non-null  float64\n",
            " 37  DelinquenciesLast7Years              112947 non-null  float64\n",
            " 38  PublicRecordsLast10Years             113240 non-null  float64\n",
            " 39  PublicRecordsLast12Months            106333 non-null  float64\n",
            " 40  RevolvingCreditBalance               106333 non-null  float64\n",
            " 41  BankcardUtilization                  106333 non-null  float64\n",
            " 42  AvailableBankcardCredit              106393 non-null  float64\n",
            " 43  TotalTrades                          106393 non-null  float64\n",
            " 44  TradesNeverDelinquent (percentage)   106393 non-null  float64\n",
            " 45  TradesOpenedLast6Months              106393 non-null  float64\n",
            " 46  DebtToIncomeRatio                    105383 non-null  float64\n",
            " 47  IncomeRange                          113937 non-null  object \n",
            " 48  IncomeVerifiable                     113937 non-null  bool   \n",
            " 49  StatedMonthlyIncome                  113937 non-null  float64\n",
            " 50  LoanKey                              113937 non-null  object \n",
            " 51  TotalProsperLoans                    22085 non-null   float64\n",
            " 52  TotalProsperPaymentsBilled           22085 non-null   float64\n",
            " 53  OnTimeProsperPayments                22085 non-null   float64\n",
            " 54  ProsperPaymentsLessThanOneMonthLate  22085 non-null   float64\n",
            " 55  ProsperPaymentsOneMonthPlusLate      22085 non-null   float64\n",
            " 56  ProsperPrincipalBorrowed             22085 non-null   float64\n",
            " 57  ProsperPrincipalOutstanding          22085 non-null   float64\n",
            " 58  ScorexChangeAtTimeOfListing          18928 non-null   float64\n",
            " 59  LoanCurrentDaysDelinquent            113937 non-null  int64  \n",
            " 60  LoanFirstDefaultedCycleNumber        16952 non-null   float64\n",
            " 61  LoanMonthsSinceOrigination           113937 non-null  int64  \n",
            " 62  LoanNumber                           113937 non-null  int64  \n",
            " 63  LoanOriginalAmount                   113937 non-null  int64  \n",
            " 64  LoanOriginationDate                  113937 non-null  object \n",
            " 65  LoanOriginationQuarter               113937 non-null  object \n",
            " 66  MemberKey                            113937 non-null  object \n",
            " 67  MonthlyLoanPayment                   113937 non-null  float64\n",
            " 68  LP_CustomerPayments                  113937 non-null  float64\n",
            " 69  LP_CustomerPrincipalPayments         113937 non-null  float64\n",
            " 70  LP_InterestandFees                   113937 non-null  float64\n",
            " 71  LP_ServiceFees                       113937 non-null  float64\n",
            " 72  LP_CollectionFees                    113937 non-null  float64\n",
            " 73  LP_GrossPrincipalLoss                113937 non-null  float64\n",
            " 74  LP_NetPrincipalLoss                  113937 non-null  float64\n",
            " 75  LP_NonPrincipalRecoverypayments      113937 non-null  float64\n",
            " 76  PercentFunded                        113937 non-null  float64\n",
            " 77  Recommendations                      113937 non-null  int64  \n",
            " 78  InvestmentFromFriendsCount           113937 non-null  int64  \n",
            " 79  InvestmentFromFriendsAmount          113937 non-null  float64\n",
            " 80  Investors                            113937 non-null  int64  \n",
            "dtypes: bool(3), float64(50), int64(11), object(17)\n",
            "memory usage: 68.1+ MB\n"
          ]
        }
      ]
    },
    {
      "cell_type": "markdown",
      "source": [
        "> From our analysis in PART I, we have already observed that our data is very imbalanced. Most of the data is from the State of Canada and Texas respectively. Therefore we will need to account for this by randomly selecting limited numbers of Borrowers from each state.\n",
        "\n",
        "> Machine Learning Frameworks prefer to work with numbers over strings so we will need to use numeric ratings over alpha ratings for simplicity and performance. Additionally some features will need to be Normalized first to work out scaling imbalances amongst the different features."
      ],
      "metadata": {
        "id": "LQzQ6wmiGS_3"
      }
    },
    {
      "cell_type": "markdown",
      "source": [
        "#### Feature Selection:"
      ],
      "metadata": {
        "id": "UcpzAd2MhHzl"
      }
    },
    {
      "cell_type": "code",
      "source": [
        "# Select suitable features we can use for our models.\n",
        "features_df = loan_df[[ 'ProsperScore', 'ProsperRating (numeric)',\n",
        "                       'EmploymentStatus', 'Term','IsBorrowerHomeowner',\n",
        "                       'IncomeVerifiable', 'IncomeRange',\n",
        "                       'StatedMonthlyIncome', 'Recommendations']]"
      ],
      "metadata": {
        "id": "oTr4AQ6L-gNd"
      },
      "execution_count": null,
      "outputs": []
    },
    {
      "cell_type": "markdown",
      "source": [
        "> Note:\n",
        "  * Depending on which rows are useable (complete) and contain fewer outliers, we will then decide on which between `ProsperRating (numeric)` and `ProsperScore` we can use as a target to predict.\n",
        "  * A similar evaluation will be made for the other features if they are usable as input features."
      ],
      "metadata": {
        "id": "IPFM15dCli9U"
      }
    },
    {
      "cell_type": "code",
      "source": [
        "# define function to determine field with fewest entries.\n",
        "\n",
        "def find_features_with_fewest_entries(dataframe):\n",
        "  \"\"\"Finds and prints the dataframe field(s) with the fewest number of entries.\n",
        "     If a dataframe with no features is given, will print no features found.\n",
        "     If any object other than a dataframe is given as input, will print an error.\n",
        "\n",
        "     Arguments:\n",
        "     ----------\n",
        "      dataframe : obj\n",
        "        input pandas dataframe.\n",
        "\n",
        "      Returns:\n",
        "      --------\n",
        "        response : str\n",
        "          the field(s) with the least number of entries.\n",
        "    \"\"\"\n",
        "  # Check if the input is a DataFrame\n",
        "  if not isinstance(dataframe, pd.DataFrame):\n",
        "    print(\"Input is not a valid DataFrame.\")\n",
        "    return\n",
        "\n",
        "  # Get the number of rows in the DataFrame\n",
        "  num_rows = len(dataframe)\n",
        "\n",
        "  # Find min entries\n",
        "  min_entries = dataframe.count().min()\n",
        "\n",
        "  # Find feature names\n",
        "  min_feature_names = dataframe.columns[dataframe.count() == min_entries].to_list()\n",
        "\n",
        "  # Print results\n",
        "  if min_feature_names:\n",
        "    feature_str = \", \".join([f\"'{feature}'\" for feature in min_feature_names])\n",
        "    print(f\"min features: {feature_str} = {min_entries}/{num_rows}\")\n",
        "  else:\n",
        "    print(\"No features found in DF.\")"
      ],
      "metadata": {
        "id": "qcWCAcBYpSU6"
      },
      "execution_count": null,
      "outputs": []
    },
    {
      "cell_type": "code",
      "source": [
        "# We can then use this func to outline the features with smallest sample size\n",
        "find_features_with_fewest_entries(features_df)\n"
      ],
      "metadata": {
        "colab": {
          "base_uri": "https://localhost:8080/"
        },
        "id": "OE36IZLKrb7a",
        "outputId": "9613ea3f-4027-4564-fd2c-0d69fc481ec7"
      },
      "execution_count": null,
      "outputs": [
        {
          "output_type": "stream",
          "name": "stdout",
          "text": [
            "min features: 'ProsperScore', 'ProsperRating (numeric)' = 84853/113937\n"
          ]
        }
      ]
    },
    {
      "cell_type": "markdown",
      "source": [
        " > From this function we can see that our candidate targets (`ProsperScore` and `ProsperRating (numeric)`) have an equivalent number of entries therefore we may use whichever one of the 2 that translate better via Normalization."
      ],
      "metadata": {
        "id": "jGjQ5Yt6ud8D"
      }
    }
  ]
}